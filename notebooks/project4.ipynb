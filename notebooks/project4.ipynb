{
 "cells": [
  {
   "cell_type": "markdown",
   "id": "fd88535f",
   "metadata": {},
   "source": [
    "Session setup"
   ]
  },
  {
   "cell_type": "code",
   "execution_count": 1,
   "id": "0f989c36",
   "metadata": {
    "vscode": {
     "languageId": "plaintext"
    }
   },
   "outputs": [
    {
     "name": "stdout",
     "output_type": "stream",
     "text": [
      "Spark Session Initialized. Spark version: 3.5.3\n"
     ]
    }
   ],
   "source": [
    "# Import necessary libraries\n",
    "from pyspark.sql import SparkSession\n",
    "from pyspark.sql import functions as F # Import functions with an alias for clarity\n",
    "import warnings\n",
    "\n",
    "\n",
    "# Suppress specific warnings if needed (optional)\n",
    "# warnings.filterwarnings(\"ignore\", category=FutureWarning, module=\"pyspark.sql.pandas.conversion\")\n",
    "\n",
    "# Create or get a SparkSession\n",
    "spark = SparkSession.builder \\\n",
    "    .appName(\"SparkML Lab - Enhanced\") \\\n",
    "    .config(\"spark.sql.shuffle.partitions\", 4) \\\n",
    "    .config(\"spark.executor.memory\", \"2g\") \\\n",
    "    .config(\"spark.driver.memory\", \"1g\") \\\n",
    "    .getOrCreate()\n",
    "\n",
    "# Enable Arrow-based columnar data transfers (improves Spark -> Pandas conversion performance)\n",
    "spark.conf.set(\"spark.sql.execution.arrow.pyspark.enabled\", \"true\")\n",
    "\n",
    "# Optional: Enable eager evaluation for better interactive display in notebooks\n",
    "# spark.conf.set(\"spark.sql.repl.eagerEval.enabled\", True)\n",
    "\n",
    "sqlContext = spark # Use spark variable directly, sqlContext is legacy\n",
    "\n",
    "print(f\"Spark Session Initialized. Spark version: {spark.version}\")"
   ]
  },
  {
   "cell_type": "markdown",
   "id": "df5689c4",
   "metadata": {},
   "source": [
    "LoadING Data from the 2009.csv file,  with all fields as strings (by keeping the schema inference off)"
   ]
  },
  {
   "cell_type": "code",
   "execution_count": 2,
   "id": "3170c34d",
   "metadata": {
    "vscode": {
     "languageId": "plaintext"
    }
   },
   "outputs": [
    {
     "name": "stdout",
     "output_type": "stream",
     "text": [
      "Original Column Names:\n",
      "['FL_DATE', 'OP_CARRIER', 'OP_CARRIER_FL_NUM', 'ORIGIN', 'DEST', 'CRS_DEP_TIME', 'DEP_TIME', 'DEP_DELAY', 'TAXI_OUT', 'WHEELS_OFF', 'WHEELS_ON', 'TAXI_IN', 'CRS_ARR_TIME', 'ARR_TIME', 'ARR_DELAY', 'CANCELLED', 'CANCELLATION_CODE', 'DIVERTED', 'CRS_ELAPSED_TIME', 'ACTUAL_ELAPSED_TIME', 'AIR_TIME', 'DISTANCE', 'CARRIER_DELAY', 'WEATHER_DELAY', 'NAS_DELAY', 'SECURITY_DELAY', 'LATE_AIRCRAFT_DELAY', 'Unnamed: 27']\n"
     ]
    }
   ],
   "source": [
    "# Define the path to the data\n",
    "# Make sure the 'lab_data/adult.data' file is accessible in your Spark environment\n",
    "data_path = \"./data/2009.csv\"\n",
    "\n",
    "# Loading data initially as strings to inspect headers\n",
    "df_string = spark.read.format(\"csv\") \\\n",
    "    .option(\"header\", \"true\") \\\n",
    "    .option(\"inferSchema\", \"false\") \\\n",
    "    .option(\"ignoreLeadingWhiteSpace\", \"true\") \\\n",
    "    .option(\"ignoreTrailingWhiteSpace\", \"true\") \\\n",
    "    .load(data_path)\n",
    "\n",
    "# Inspect column names - they might have leading/trailing spaces or hyphens\n",
    "print(\"Original Column Names:\")\n",
    "print(df_string.columns)\n"
   ]
  },
  {
   "cell_type": "markdown",
   "id": "9eb7bd06",
   "metadata": {},
   "source": [
    "DATA CLEANING"
   ]
  },
  {
   "cell_type": "code",
   "execution_count": 3,
   "id": "a79eef5c",
   "metadata": {
    "vscode": {
     "languageId": "plaintext"
    }
   },
   "outputs": [
    {
     "name": "stdout",
     "output_type": "stream",
     "text": [
      "Cleaned Column Names:\n",
      "['FL_DATE', 'OP_CARRIER', 'OP_CARRIER_FL_NUM', 'ORIGIN', 'DEST', 'CRS_DEP_TIME', 'DEP_TIME', 'DEP_DELAY', 'TAXI_OUT', 'WHEELS_OFF', 'WHEELS_ON', 'TAXI_IN', 'CRS_ARR_TIME', 'ARR_TIME', 'ARR_DELAY', 'CANCELLED', 'CANCELLATION_CODE', 'DIVERTED', 'CRS_ELAPSED_TIME', 'ACTUAL_ELAPSED_TIME', 'AIR_TIME', 'DISTANCE', 'CARRIER_DELAY', 'WEATHER_DELAY', 'NAS_DELAY', 'SECURITY_DELAY', 'LATE_AIRCRAFT_DELAY', 'Unnamed: 27']\n"
     ]
    }
   ],
   "source": [
    "\n",
    "# Clean column names: remove spaces, replace hyphens with underscores\n",
    "clean_columns = [col.strip().replace('-', '_') for col in df_string.columns]\n",
    "\n",
    "# Apply new column names\n",
    "df_renamed = df_string.toDF(*clean_columns)\n",
    "\n",
    "print(\"Cleaned Column Names:\")\n",
    "print(df_renamed.columns)\n"
   ]
  },
  {
   "cell_type": "markdown",
   "id": "057896d2",
   "metadata": {},
   "source": [
    "Now Inferring schema and Inspecting Data types"
   ]
  },
  {
   "cell_type": "code",
   "execution_count": 4,
   "id": "24700e16",
   "metadata": {
    "vscode": {
     "languageId": "plaintext"
    }
   },
   "outputs": [
    {
     "name": "stdout",
     "output_type": "stream",
     "text": [
      "DataFrame Schema:\n",
      "root\n",
      " |-- FL_DATE: date (nullable = true)\n",
      " |-- OP_CARRIER: string (nullable = true)\n",
      " |-- OP_CARRIER_FL_NUM: string (nullable = true)\n",
      " |-- ORIGIN: string (nullable = true)\n",
      " |-- DEST: string (nullable = true)\n",
      " |-- CRS_DEP_TIME: string (nullable = true)\n",
      " |-- DEP_TIME: double (nullable = true)\n",
      " |-- DEP_DELAY: double (nullable = true)\n",
      " |-- TAXI_OUT: double (nullable = true)\n",
      " |-- WHEELS_OFF: double (nullable = true)\n",
      " |-- WHEELS_ON: double (nullable = true)\n",
      " |-- TAXI_IN: double (nullable = true)\n",
      " |-- CRS_ARR_TIME: string (nullable = true)\n",
      " |-- ARR_TIME: double (nullable = true)\n",
      " |-- ARR_DELAY: double (nullable = true)\n",
      " |-- CANCELLED: double (nullable = true)\n",
      " |-- CANCELLATION_CODE: string (nullable = true)\n",
      " |-- DIVERTED: double (nullable = true)\n",
      " |-- CRS_ELAPSED_TIME: double (nullable = true)\n",
      " |-- ACTUAL_ELAPSED_TIME: double (nullable = true)\n",
      " |-- AIR_TIME: double (nullable = true)\n",
      " |-- DISTANCE: double (nullable = true)\n",
      " |-- CARRIER_DELAY: double (nullable = true)\n",
      " |-- WEATHER_DELAY: double (nullable = true)\n",
      " |-- NAS_DELAY: double (nullable = true)\n",
      " |-- SECURITY_DELAY: double (nullable = true)\n",
      " |-- LATE_AIRCRAFT_DELAY: double (nullable = true)\n",
      " |-- Unnamed: 27: string (nullable = true)\n",
      "\n",
      "\n",
      "Number of records: 6429338\n"
     ]
    }
   ],
   "source": [
    "from pyspark.sql.types import *\n",
    "\n",
    "flight_schema = StructType([\n",
    "    StructField(\"FL_DATE\", DateType(), True),\n",
    "    StructField(\"OP_CARRIER\", StringType(), True),\n",
    "    StructField(\"OP_CARRIER_FL_NUM\", StringType(), True),\n",
    "    StructField(\"ORIGIN\", StringType(), True),\n",
    "    StructField(\"DEST\", StringType(), True),\n",
    "    StructField(\"CRS_DEP_TIME\", StringType(), True),\n",
    "    StructField(\"DEP_TIME\", DoubleType(), True),\n",
    "    StructField(\"DEP_DELAY\", DoubleType(), True),\n",
    "    StructField(\"TAXI_OUT\", DoubleType(), True),\n",
    "    StructField(\"WHEELS_OFF\", DoubleType(), True),\n",
    "    StructField(\"WHEELS_ON\", DoubleType(), True),\n",
    "    StructField(\"TAXI_IN\", DoubleType(), True),\n",
    "    StructField(\"CRS_ARR_TIME\", StringType(), True),\n",
    "    StructField(\"ARR_TIME\", DoubleType(), True),\n",
    "    StructField(\"ARR_DELAY\", DoubleType(), True),\n",
    "    StructField(\"CANCELLED\", DoubleType(), True),\n",
    "    StructField(\"CANCELLATION_CODE\", StringType(), True),\n",
    "    StructField(\"DIVERTED\", DoubleType(), True),\n",
    "    StructField(\"CRS_ELAPSED_TIME\", DoubleType(), True),\n",
    "    StructField(\"ACTUAL_ELAPSED_TIME\", DoubleType(), True),\n",
    "    StructField(\"AIR_TIME\", DoubleType(), True),\n",
    "    StructField(\"DISTANCE\", DoubleType(), True),\n",
    "    StructField(\"CARRIER_DELAY\", DoubleType(), True),\n",
    "    StructField(\"WEATHER_DELAY\", DoubleType(), True),\n",
    "    StructField(\"NAS_DELAY\", DoubleType(), True),\n",
    "    StructField(\"SECURITY_DELAY\", DoubleType(), True),\n",
    "    StructField(\"LATE_AIRCRAFT_DELAY\", DoubleType(), True),\n",
    "    StructField(\"Unnamed: 27\", StringType(), True),\n",
    "])\n",
    "\n",
    "# Load data with the explicit schema and cleaned names\n",
    "df = spark.read.format(\"csv\") \\\n",
    "    .option(\"header\", \"true\") \\\n",
    "    .option(\"ignoreLeadingWhiteSpace\", \"true\") \\\n",
    "    .option(\"ignoreTrailingWhiteSpace\", \"true\") \\\n",
    "    .schema(flight_schema) \\\n",
    "    .load(data_path)\n",
    "\n",
    "# probably not needed, using it anyway\n",
    "df = df.toDF(*clean_columns)        \n",
    "\n",
    "# Print the schema to verify data types\n",
    "print(\"DataFrame Schema:\")\n",
    "df.printSchema()\n",
    "\n",
    "\n",
    "# Cache the DataFrame for faster access in subsequent operations\n",
    "df.cache()\n",
    "\n",
    "print(f\"\\nNumber of records: {df.count()}\")"
   ]
  },
  {
   "cell_type": "markdown",
   "id": "75f70bcb",
   "metadata": {},
   "source": [
    "Saving as Partitioned Parquet"
   ]
  },
  {
   "cell_type": "code",
   "execution_count": 5,
   "id": "ac5c4dc1",
   "metadata": {
    "vscode": {
     "languageId": "plaintext"
    }
   },
   "outputs": [
    {
     "name": "stdout",
     "output_type": "stream",
     "text": [
      "✅ Parquet saved to: ./output/flight_2009_parquet\n"
     ]
    }
   ],
   "source": [
    "# # Reload with schema now that columns are cleaned\n",
    "# df_2009 = spark.read.format(\"csv\") \\\n",
    "#     .option(\"header\", \"true\") \\\n",
    "#     .schema(flight_schema) \\\n",
    "#     .option(\"ignoreLeadingWhiteSpace\", \"true\") \\\n",
    "#     .option(\"ignoreTrailingWhiteSpace\", \"true\") \\\n",
    "#     .load(data_path)\n",
    "\n",
    "# # Clean column names again for consistency\n",
    "# clean_columns = [col.strip().replace('-', '_') for col in df_2009.columns]\n",
    "# df_2009 = df_2009.toDF(*clean_columns)\n",
    "\n",
    "# Optional: drop completely empty rows or unneeded trailing column\n",
    "# df = df.drop(\"Unnamed: 27\")\n",
    "\n",
    "# Write to Parquet, partitioned by OP_CARRIER (airline)\n",
    "output_path = \"./output/flight_2009_parquet\"\n",
    "\n",
    "# df.write \\\n",
    "#     .mode(\"overwrite\") \\\n",
    "#     .partitionBy(\"OP_CARRIER\") \\\n",
    "#     .parquet(output_path)\n",
    "\n",
    "df.write.mode(\"overwrite\").parquet(output_path)\n",
    "\n",
    "# df.write.parquet(output_path)\n",
    "\n",
    "print(f\"✅ Parquet saved to: {output_path}\")\n"
   ]
  },
  {
   "cell_type": "code",
   "execution_count": null,
   "id": "96f16511-8066-4547-bf03-b49f0a60e299",
   "metadata": {},
   "outputs": [],
   "source": []
  },
  {
   "cell_type": "code",
   "execution_count": null,
   "id": "05270c25-8de8-44c0-9cb6-cd984aaf787f",
   "metadata": {},
   "outputs": [],
   "source": []
  }
 ],
 "metadata": {
  "kernelspec": {
   "display_name": "Python 3 (ipykernel)",
   "language": "python",
   "name": "python3"
  },
  "language_info": {
   "codemirror_mode": {
    "name": "ipython",
    "version": 3
   },
   "file_extension": ".py",
   "mimetype": "text/x-python",
   "name": "python",
   "nbconvert_exporter": "python",
   "pygments_lexer": "ipython3",
   "version": "3.11.10"
  }
 },
 "nbformat": 4,
 "nbformat_minor": 5
}
